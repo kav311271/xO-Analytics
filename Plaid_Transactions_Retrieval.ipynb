{
 "cells": [
  {
   "cell_type": "code",
   "execution_count": 100,
   "metadata": {},
   "outputs": [],
   "source": [
    "import requests\n",
    "import json\n",
    "from plaid import Client\n",
    "import os\n",
    "import codecs\n",
    "import pandas as pd\n",
    "from pandas.io.json import json_normalize\n",
    "from json.decoder import JSONDecodeError\n",
    "import numpy as np\n",
    "import pygsheets\n",
    "import google_auth_httplib2"
   ]
  },
  {
   "cell_type": "code",
   "execution_count": 64,
   "metadata": {},
   "outputs": [],
   "source": [
    "def CreateItem (YOUR_PUBLIC_KEY, YOUR_INSTITUTION_ID):\n",
    "    \"\"\"\n",
    "    This function creates item for transactions of the Bank of America and gets public_token\n",
    "    \"\"\"\n",
    "    \n",
    "\n",
    "    url = \"https://sandbox.plaid.com/sandbox/public_token/create\"\n",
    "\n",
    "    payload = \"{\\n\\t\\\"public_key\\\": \" + '\\\"' + YOUR_PUBLIC_KEY + '\\\"' + \",\\n\\t\\\"institution_id\\\":\" + '\\\"' + YOUR_INSTITUTION_ID + '\\\"' +  \",\\n\\t\\\"initial_products\\\": [\\\"transactions\\\"],\\n\\t\\\"options\\\": {\\n\\t\\t\\\"webhook\\\": \\\"https://www.randomdomain.com/webhook_url\\\"\\n\\t}\\n}\"\n",
    "    headers = {\n",
    "      'Content-Type': 'application/json'\n",
    "    }\n",
    "\n",
    "    response = requests.request(\"POST\", url, headers=headers, data = payload)\n",
    "    res = json.loads(response.text.encode('utf8')) \n",
    "    \n",
    "    return res\n"
   ]
  },
  {
   "cell_type": "code",
   "execution_count": 103,
   "metadata": {},
   "outputs": [],
   "source": [
    "# input data\n",
    "\n",
    "YOUR_PUBLIC_KEY = \"\"\n",
    "YOUR_INSTITUTION_ID = 'ins_1'\n",
    "YOUR_SECRET = ''\n",
    "YOUR_CLIENT_ID = ''\n",
    "jsonFileFromGoogle = '' # full path \"C:/....\""
   ]
  },
  {
   "cell_type": "code",
   "execution_count": 101,
   "metadata": {},
   "outputs": [],
   "source": [
    "# Create an item for transactions of the Bank of America and gets public_token\n",
    "\n",
    "plaid_item = CreateItem(YOUR_PUBLIC_KEY, YOUR_INSTITUTION_ID)\n",
    "YOUR_PUBLIC_TOKEN = plaid_item['public_token']"
   ]
  },
  {
   "cell_type": "code",
   "execution_count": 79,
   "metadata": {},
   "outputs": [],
   "source": [
    "# Exchange public token for access token (for transactions of the Bank of America)\n",
    "\n",
    "client = Client(client_id = YOUR_CLIENT_ID, secret=YOUR_SECRET, \n",
    "                public_key = YOUR_PUBLIC_KEY, environment='sandbox')\n",
    "response = client.Item.public_token.exchange(YOUR_PUBLIC_TOKEN)\n",
    "\n",
    "YOUR_ACCESS_TOKEN = response['access_token']"
   ]
  },
  {
   "cell_type": "code",
   "execution_count": 80,
   "metadata": {},
   "outputs": [],
   "source": [
    "# Retrieve transactions\n",
    "\n",
    "client = Client(client_id = YOUR_CLIENT_ID, secret = YOUR_SECRET, \n",
    "                public_key = YOUR_PUBLIC_KEY, environment='sandbox')\n",
    "\n",
    "response = client.Transactions.get(YOUR_ACCESS_TOKEN, start_date='2020-01-01', end_date='2020-05-01')\n",
    "transactions = response['transactions']\n",
    "\n",
    "# the transactions in the response are paginated, so make multiple calls while increasing the offset to\n",
    "# retrieve all transactions\n",
    "while len(transactions) < response['total_transactions']:\n",
    "    response = client.Transactions.get(YOUR_ACCESS_TOKEN, start_date='2020-01-01', end_date='2020-05-01',\n",
    "                                       offset=len(transactions)\n",
    "                                      )\n",
    "    transactions.extend(response['transactions'])"
   ]
  },
  {
   "cell_type": "code",
   "execution_count": 87,
   "metadata": {},
   "outputs": [],
   "source": [
    "# Extract data from json into Pandas DataFrames\n",
    "accounts_data = pd.json_normalize(data = response['accounts'])\n",
    "transactions_data = pd.json_normalize(data = response['transactions'])\n",
    "\n",
    "# Join Pandas DataFrames into the single DataFrame\n",
    "rawdata_table = pd.merge(transactions_data, accounts_data,  on = 'account_id')"
   ]
  },
  {
   "cell_type": "code",
   "execution_count": 89,
   "metadata": {},
   "outputs": [],
   "source": [
    "# Prepare data to make cashflow report\n",
    "\n",
    "rawdata_table['date'] = rawdata_table['date'].astype('datetime64[ns]')\n",
    "rawdata_table['type_cashflow'] = ''\n",
    "\n",
    "type_cashflowIndex = rawdata_table.columns.get_loc('type_cashflow')\n",
    "amountIndex = rawdata_table.columns.get_loc('amount')\n",
    "categoryIndex = rawdata_table.columns.get_loc('category')\n",
    "\n",
    "for i in range(rawdata_table.shape[0]):\n",
    "    listtostr = (rawdata_table.iat[i,categoryIndex])\n",
    "    rawdata_table.iloc[[i],[categoryIndex]] = ', '.join(listtostr)\n",
    "    \n",
    "    if rawdata_table.iat[i,amountIndex] < 0:\n",
    "        #print (joinedtable.iat[i,amountIndex])\n",
    "        rawdata_table.iloc[[i],[type_cashflowIndex]] = 'Expense'\n",
    "        \n",
    "    elif rawdata_table.iat[i,amountIndex] >= 0:\n",
    "        #print (joinedtable.iat[i,amountIndex])\n",
    "        rawdata_table.iloc[[i],[type_cashflowIndex]] = 'Income'\n"
   ]
  },
  {
   "cell_type": "code",
   "execution_count": 98,
   "metadata": {},
   "outputs": [],
   "source": [
    "# Make cashflow table\n",
    "cashflow_table = pd.pivot_table(rawdata_table, index = ['type_cashflow', 'subtype', 'category'], \n",
    "                                values = ['amount'], \n",
    "                                aggfunc = {'amount' : np.sum}, \n",
    "                                columns = pd.Grouper(freq='M', key='date'))\n",
    "cashflow_table = cashflow_table.reset_index()"
   ]
  },
  {
   "cell_type": "code",
   "execution_count": 115,
   "metadata": {},
   "outputs": [],
   "source": [
    "#authorization\n",
    "gc = pygsheets.authorize(service_file = jsonFileFromGoogle)\n",
    "\n",
    "#open the google spreadsheet\n",
    "sh = gc.open('xO Analytics')\n",
    "\n",
    "#select the first and second sheets \n",
    "sheet_1 = sh[0]\n",
    "sheet_2 = sh[1]\n",
    "\n",
    "#update the first sand second sheets with rawdata and cashflow_tables. \n",
    "sheet_1.set_dataframe(rawdata_table,(1,1))\n",
    "sheet_2.set_dataframe(cashflow_table,(1,1))"
   ]
  }
 ],
 "metadata": {
  "kernelspec": {
   "display_name": "Python 3",
   "language": "python",
   "name": "python3"
  },
  "language_info": {
   "codemirror_mode": {
    "name": "ipython",
    "version": 3
   },
   "file_extension": ".py",
   "mimetype": "text/x-python",
   "name": "python",
   "nbconvert_exporter": "python",
   "pygments_lexer": "ipython3",
   "version": "3.7.0"
  }
 },
 "nbformat": 4,
 "nbformat_minor": 2
}
